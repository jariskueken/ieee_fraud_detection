{
 "cells": [
  {
   "cell_type": "code",
   "execution_count": 1,
   "metadata": {},
   "outputs": [],
   "source": [
    "import pandas as pd\n",
    "from sklearn.decomposition import PCA"
   ]
  },
  {
   "cell_type": "code",
   "execution_count": 2,
   "metadata": {},
   "outputs": [],
   "source": [
    "train_df = pd.read_csv('../data/train_data_prepared.csv', index_col=None)\n",
    "test_df = pd.read_csv('../data/test_data_prepared.csv', index_col=None)"
   ]
  },
  {
   "cell_type": "code",
   "execution_count": 3,
   "metadata": {},
   "outputs": [],
   "source": [
    "# get a columns list\n",
    "features = list(train_df.columns)\n",
    "features.remove('isFraud')\n",
    "\n",
    "# separate the target\n",
    "target = train_df['isFraud']"
   ]
  },
  {
   "cell_type": "code",
   "execution_count": 4,
   "metadata": {},
   "outputs": [
    {
     "name": "stdout",
     "output_type": "stream",
     "text": [
      "[9.99570420e-01 2.82883014e-04 1.30192869e-04 9.77211089e-06\n",
      " 4.55708894e-06]\n",
      "[9.98824412e-01 7.56300451e-04 3.96966389e-04 1.15523279e-05\n",
      " 4.06716034e-06]\n"
     ]
    }
   ],
   "source": [
    "# build pca\n",
    "pca_train = PCA(n_components=5)\n",
    "pca_test = PCA(n_components=5)\n",
    "\n",
    "principal_components_train = pca_train.fit_transform(train_df[features])\n",
    "principal_components_test = pca_test.fit_transform(test_df[features])\n",
    "\n",
    "print(pca_train.explained_variance_ratio_)\n",
    "print(pca_test.explained_variance_ratio_)\n"
   ]
  },
  {
   "cell_type": "code",
   "execution_count": 12,
   "metadata": {},
   "outputs": [],
   "source": [
    "train_df = pd.DataFrame()\n",
    "for i in range(len(principal_components_train.T) - 2):\n",
    "    train_df[f'pc_{i}'] = principal_components_train.T[i]\n",
    "\n",
    "test_df = pd.DataFrame()\n",
    "for i in range(len(principal_components_test.T) - 2):\n",
    "    test_df[f'pc_{i}'] = principal_components_test.T[i]\n",
    "\n",
    "train_df['isFraud'] = target"
   ]
  },
  {
   "cell_type": "code",
   "execution_count": 14,
   "metadata": {},
   "outputs": [],
   "source": [
    "train_df.to_csv('../data/train_data_pca.csv', index=False)\n",
    "test_df.to_csv('../data/test_data_pca.csv', index=False)\n"
   ]
  }
 ],
 "metadata": {
  "kernelspec": {
   "display_name": "kagglevenv",
   "language": "python",
   "name": "python3"
  },
  "language_info": {
   "codemirror_mode": {
    "name": "ipython",
    "version": 3
   },
   "file_extension": ".py",
   "mimetype": "text/x-python",
   "name": "python",
   "nbconvert_exporter": "python",
   "pygments_lexer": "ipython3",
   "version": "3.11.7"
  }
 },
 "nbformat": 4,
 "nbformat_minor": 2
}
